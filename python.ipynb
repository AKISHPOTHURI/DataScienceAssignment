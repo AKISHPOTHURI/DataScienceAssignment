{
 "cells": [
  {
   "attachments": {},
   "cell_type": "markdown",
   "metadata": {},
   "source": [
    "Question 1: -\n",
    "\n",
    "Write a program that takes a string as input, and counts the frequency of each word in the string, there might\n",
    "be repeated characters in the string. Your task is to find the highest frequency and returns the length of the\n",
    "highest-frequency word.\n",
    "\n",
    "Note - You have to write at least 2 additional test cases in which your program will run successfully and provide\n",
    "an explanation for the same.\n",
    "\n",
    "Example input - string = “write write write all the number from from from 1 to 100”\n",
    "\n",
    "Example output - 5\n",
    "\n",
    "Explanation - From the given string we can note that the most frequent words are “write” and “from” and\n",
    "the maximum value of both the values is “write” and its corresponding length is 5"
   ]
  },
  {
   "cell_type": "code",
   "execution_count": 21,
   "metadata": {},
   "outputs": [
    {
     "name": "stdout",
     "output_type": "stream",
     "text": [
      "max length of the most frequent word: 5\n"
     ]
    }
   ],
   "source": [
    "text = \"write write write all the number from from from 1 to 100\"\n",
    "words = []\n",
    "words = text.split()\n",
    "wfreq = [words.count(w) for w in words]\n",
    "keys_max = 0\n",
    "vals_max = 0\n",
    "for key, val in dict(zip(words,wfreq)).items():\n",
    "    if val > vals_max:\n",
    "        vals_max = val\n",
    "        if len(key) > keys_max:\n",
    "            keys_max = len(key)\n",
    "print(\"max length of the most frequent word:\",keys_max)"
   ]
  },
  {
   "attachments": {},
   "cell_type": "markdown",
   "metadata": {},
   "source": [
    "Q-2\n",
    "\n",
    "Consider a string to be valid if all characters of the string appear the same number of times. It is also valid if\n",
    "he can remove just one character at the index in the string, and the remaining characters will occur the same\n",
    "number of times. Given a string, determine if it is valid. If so, return YES , otherwise return NO .\n",
    "\n",
    "Note - You have to write at least 2 additional test cases in which your program will run successfully and provide\n",
    "an explanation for the same.\n",
    "\n",
    "Example input 1 - s = “abc”. This is a valid string because frequencies are { “a”: 1, “b”: 1, “c”: 1 }\n",
    "\n",
    "Example output 1- YES\n",
    "\n",
    "Example input 2 - s “abccc”. This string is not valid as we can remove only 1 occurrence of “c”. That leaves\n",
    "character frequencies of { “a”: 1, “b”: 1 , “c”: 2 }\n",
    "\n",
    "Example output 2 - NO"
   ]
  },
  {
   "cell_type": "code",
   "execution_count": 36,
   "metadata": {},
   "outputs": [
    {
     "name": "stdout",
     "output_type": "stream",
     "text": [
      "{'a': 1, 'b': 1, 'c': 3}\n"
     ]
    },
    {
     "data": {
      "text/plain": [
       "'NO'"
      ]
     },
     "execution_count": 36,
     "metadata": {},
     "output_type": "execute_result"
    }
   ],
   "source": [
    "text = input(\"Enter the string: \")\n",
    "def isValid(s):\n",
    "    d = {}\n",
    "    for c in s:\n",
    "        if c not in d:\n",
    "            d[c] = 1\n",
    "        else:\n",
    "            d[c] += 1\n",
    "    print(d)\n",
    "    freq = {}\n",
    "    for value in d.values():\n",
    "        if value not in freq:\n",
    "            freq[value] = 1\n",
    "        else:\n",
    "            freq[value] += 1\n",
    "\n",
    "    if len(freq) == 1:\n",
    "        return 'YES'\n",
    "\n",
    "    if len(freq) == 2:\n",
    "        min_freq = min(freq.keys())\n",
    "        max_freq = max(freq.keys())\n",
    "        if freq[max_freq] == 1 and (max_freq - min_freq) == 1:\n",
    "            return 'YES'\n",
    "        if freq[min_freq] == 1 and min_freq == 1:\n",
    "            return 'YES'\n",
    "\n",
    "    return 'NO'\n",
    "isValid(text)"
   ]
  },
  {
   "cell_type": "code",
   "execution_count": null,
   "metadata": {},
   "outputs": [],
   "source": []
  },
  {
   "cell_type": "code",
   "execution_count": null,
   "metadata": {},
   "outputs": [],
   "source": []
  }
 ],
 "metadata": {
  "kernelspec": {
   "display_name": ".venv",
   "language": "python",
   "name": "python3"
  },
  "language_info": {
   "codemirror_mode": {
    "name": "ipython",
    "version": 3
   },
   "file_extension": ".py",
   "mimetype": "text/x-python",
   "name": "python",
   "nbconvert_exporter": "python",
   "pygments_lexer": "ipython3",
   "version": "3.8.1"
  },
  "orig_nbformat": 4
 },
 "nbformat": 4,
 "nbformat_minor": 2
}
